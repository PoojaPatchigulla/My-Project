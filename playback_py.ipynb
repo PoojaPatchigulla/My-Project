{
  "nbformat": 4,
  "nbformat_minor": 0,
  "metadata": {
    "colab": {
      "provenance": [],
      "authorship_tag": "ABX9TyPaW7LHt+37Zb2qF9Xaj+3z",
      "include_colab_link": true
    },
    "kernelspec": {
      "name": "python3",
      "display_name": "Python 3"
    },
    "language_info": {
      "name": "python"
    }
  },
  "cells": [
    {
      "cell_type": "markdown",
      "metadata": {
        "id": "view-in-github",
        "colab_type": "text"
      },
      "source": [
        "<a href=\"https://colab.research.google.com/github/PoojaPatchigulla/My-Project/blob/main/playback_py.ipynb\" target=\"_parent\"><img src=\"https://colab.research.google.com/assets/colab-badge.svg\" alt=\"Open In Colab\"/></a>"
      ]
    },
    {
      "cell_type": "code",
      "execution_count": 2,
      "metadata": {
        "colab": {
          "base_uri": "https://localhost:8080/"
        },
        "id": "eI6b05_y6gRr",
        "outputId": "0d471dfb-98be-4d14-afff-067b4244f5b8"
      },
      "outputs": [
        {
          "output_type": "stream",
          "name": "stdout",
          "text": [
            "Today is Teacher's day\n",
            "Today...is...Teacher's...day\n"
          ]
        }
      ],
      "source": [
        "def space(str):\n",
        "    l=[]\n",
        "    for i in str:\n",
        "        if i==\" \":\n",
        "            l.append(\"...\")\n",
        "        else:\n",
        "            l.append(i)\n",
        "    return ''.join(l)\n",
        "str=input()\n",
        "print(space(str))"
      ]
    },
    {
      "cell_type": "code",
      "source": [],
      "metadata": {
        "id": "sn7d_Dfv69Dq"
      },
      "execution_count": null,
      "outputs": []
    }
  ]
}